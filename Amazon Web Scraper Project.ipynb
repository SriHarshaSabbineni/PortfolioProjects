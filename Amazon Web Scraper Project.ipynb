{
 "cells": [
  {
   "cell_type": "code",
   "execution_count": 12,
   "id": "1d5ea58c",
   "metadata": {},
   "outputs": [],
   "source": [
    "from bs4 import BeautifulSoup\n",
    "import requests\n",
    "import smtplib\n",
    "import time\n",
    "import datetime\n"
   ]
  },
  {
   "cell_type": "code",
   "execution_count": 29,
   "id": "aa7c0241",
   "metadata": {},
   "outputs": [
    {
     "name": "stdout",
     "output_type": "stream",
     "text": [
      "\n",
      "                Allen Solly Men's Regular Fit Polo\n",
      "                \n",
      "                           ₹590.00\n",
      "                          \n"
     ]
    }
   ],
   "source": [
    "URL=\"https://www.amazon.in/Allen-Solly-Regular-AMKP317G04249_Jet-Black_X-Large/dp/B06Y2CH63N?ref_=Oct_d_orecs_d_1968120031_0&pd_rd_w=DSv4D&content-id=amzn1.sym.661fd306-a02b-4014-8ce2-6f8c33e17dbc&pf_rd_p=661fd306-a02b-4014-8ce2-6f8c33e17dbc&pf_rd_r=72655J0YG356NJSBFA39&pd_rd_wg=HAaCG&pd_rd_r=6597f9fa-e33d-47d9-b3c6-7a0e398edc9a&pd_rd_i=B06Y2CH63N\"\n",
    "\n",
    "headers={\"User-Agent\": \"Mozilla/5.0 (Windows NT 10.0; Win64; x64) AppleWebKit/537.36 (KHTML, like Gecko) Chrome/110.0.0.0 Safari/537.36 Edg/110.0.1587.69\", \"Accept-Encoding\":\"gzip, deflate\", \"Accept\":\"text/html,application/xhtml+xml,application/xml;q=0.9,*/*;q=0.8\", \"DNT\":\"1\",\"Connection\":\"close\", \"Upgrade-Insecure-Requests\":\"1\"}\n",
    "\n",
    "page = requests.get(URL, headers=headers)\n",
    "\n",
    "soup1 = BeautifulSoup(page.content,'html.parser')\n",
    "\n",
    "soup2 = BeautifulSoup(soup1.prettify(),'html.parser')\n",
    "\n",
    "title = soup2.find(id=\"productTitle\").get_text()\n",
    "price = soup2.find(class_=\"a-offscreen\").get_text()\n",
    "print(title, price)\n"
   ]
  },
  {
   "cell_type": "code",
   "execution_count": 30,
   "id": "179a4ba9",
   "metadata": {},
   "outputs": [
    {
     "name": "stdout",
     "output_type": "stream",
     "text": [
      "Allen Solly Men's Regular Fit Polo\n"
     ]
    }
   ],
   "source": [
    "title = title.strip()\n",
    "print(title)"
   ]
  },
  {
   "cell_type": "code",
   "execution_count": 31,
   "id": "2ea21c8a",
   "metadata": {},
   "outputs": [
    {
     "name": "stdout",
     "output_type": "stream",
     "text": [
      "590.00\n"
     ]
    }
   ],
   "source": [
    "price = price.strip()[1:]\n",
    "print(price)"
   ]
  },
  {
   "cell_type": "code",
   "execution_count": 19,
   "id": "57c9bb61",
   "metadata": {},
   "outputs": [
    {
     "name": "stdout",
     "output_type": "stream",
     "text": [
      "2023-03-16\n"
     ]
    }
   ],
   "source": [
    "date = datetime.date.today()\n",
    "print(date)"
   ]
  },
  {
   "cell_type": "code",
   "execution_count": 20,
   "id": "ff40120c",
   "metadata": {},
   "outputs": [],
   "source": [
    "import csv"
   ]
  },
  {
   "cell_type": "code",
   "execution_count": 8,
   "id": "147035ac",
   "metadata": {},
   "outputs": [],
   "source": [
    "header=['Title','Price','Date']\n",
    "data=[title,price,date]\n",
    "\n",
    "with open('AmazonWebSceapingDataset.csv','w',newline='',encoding='UTF8') as f:\n",
    "    writer = csv.writer(f)\n",
    "    writer.writerow(header)\n",
    "    writer.writerow(data)"
   ]
  },
  {
   "cell_type": "code",
   "execution_count": 32,
   "id": "ddd6c43f",
   "metadata": {},
   "outputs": [],
   "source": [
    "data=[title,price,date]\n",
    "with open('AmazonWebSceapingDataset.csv','a+',newline='',encoding='UTF8') as f:\n",
    "    writer = csv.writer(f)\n",
    "    writer.writerow(data)"
   ]
  },
  {
   "cell_type": "code",
   "execution_count": 33,
   "id": "5919d02a",
   "metadata": {},
   "outputs": [
    {
     "name": "stdout",
     "output_type": "stream",
     "text": [
      "                                               Title  Price        Date\n",
      "0  DUDEME Data Nerd | Programmer T Shirt | Coding...  499.0  2023-03-16\n",
      "1  DUDEME Data Nerd | Programmer T Shirt | Coding...  499.0  2023-03-16\n",
      "2  DUDEME Data Nerd | Programmer T Shirt | Coding...  499.0  2023-03-16\n",
      "3  DUDEME Data Nerd | Programmer T Shirt | Coding...  499.0  2023-03-16\n",
      "4                 Allen Solly Men's Regular Fit Polo   90.0  2023-03-16\n",
      "5                 Allen Solly Men's Regular Fit Polo  590.0  2023-03-16\n"
     ]
    }
   ],
   "source": [
    "import pandas as pd\n",
    "df = pd.read_csv(r'C:\\Users\\navee\\Desktop\\AmazonWebSceapingDataset.csv')\n",
    "print(df)"
   ]
  },
  {
   "cell_type": "code",
   "execution_count": null,
   "id": "4e45525b",
   "metadata": {},
   "outputs": [],
   "source": []
  }
 ],
 "metadata": {
  "kernelspec": {
   "display_name": "Python 3 (ipykernel)",
   "language": "python",
   "name": "python3"
  },
  "language_info": {
   "codemirror_mode": {
    "name": "ipython",
    "version": 3
   },
   "file_extension": ".py",
   "mimetype": "text/x-python",
   "name": "python",
   "nbconvert_exporter": "python",
   "pygments_lexer": "ipython3",
   "version": "3.11.2"
  }
 },
 "nbformat": 4,
 "nbformat_minor": 5
}
